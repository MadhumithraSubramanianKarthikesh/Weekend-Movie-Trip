{
 "cells": [
  {
   "cell_type": "markdown",
   "metadata": {},
   "source": [
    "# Weekend movie trip"
   ]
  },
  {
   "cell_type": "markdown",
   "metadata": {},
   "source": [
    "### __1. INDUSTRY__ "
   ]
  },
  {
   "cell_type": "markdown",
   "metadata": {},
   "source": [
    "__Movies__ industry is assigned."
   ]
  },
  {
   "cell_type": "markdown",
   "metadata": {},
   "source": [
    "### __2. DATA SETS__"
   ]
  },
  {
   "cell_type": "markdown",
   "metadata": {},
   "source": [
    "__2.1. SOURCE__: The dataset is from [Grouplens](https://grouplens.org) in [this link](https://grouplens.org/datasets/movielens/)."
   ]
  },
  {
   "cell_type": "markdown",
   "metadata": {},
   "source": [
    "__DESCRIPTION__: The four datasets containing related to movies, user rating, tags and imdb ratings will be combined. The following attributes from the datasets will be used for analysis."
   ]
  },
  {
   "cell_type": "markdown",
   "metadata": {},
   "source": [
    "|Attribute       | Datatype     |\n",
    "| :------------- | ----------: |\n",
    "| movieId | int64   |\n",
    "| userId   | int64 |\n",
    "|rating| float64|\n",
    "|tag| object||"
   ]
  },
  {
   "cell_type": "markdown",
   "metadata": {},
   "source": [
    "### __3. IDEAS__"
   ]
  },
  {
   "cell_type": "markdown",
   "metadata": {},
   "source": [
    "__3.1.__ To suggest movies for users using tags and ratings with k-means clustering."
   ]
  },
  {
   "cell_type": "markdown",
   "metadata": {},
   "source": [
    "__3.2.__ To suggest movies for users using tags and ratings with DBSCAN clustering."
   ]
  },
  {
   "cell_type": "markdown",
   "metadata": {},
   "source": [
    "### __4. LOADING THE DATASETS__"
   ]
  },
  {
   "cell_type": "markdown",
   "metadata": {},
   "source": [
    "__Load the libraries__"
   ]
  },
  {
   "cell_type": "code",
   "execution_count": 1,
   "metadata": {},
   "outputs": [],
   "source": [
    "import pandas as pd \n",
    "import numpy as np\n",
    "import matplotlib.pyplot as plt\n",
    "import seaborn as sns"
   ]
  },
  {
   "cell_type": "markdown",
   "metadata": {},
   "source": [
    "__Import the csv files of dataset__"
   ]
  },
  {
   "cell_type": "code",
   "execution_count": 2,
   "metadata": {},
   "outputs": [
    {
     "data": {
      "text/html": [
       "<div>\n",
       "<style scoped>\n",
       "    .dataframe tbody tr th:only-of-type {\n",
       "        vertical-align: middle;\n",
       "    }\n",
       "\n",
       "    .dataframe tbody tr th {\n",
       "        vertical-align: top;\n",
       "    }\n",
       "\n",
       "    .dataframe thead th {\n",
       "        text-align: right;\n",
       "    }\n",
       "</style>\n",
       "<table border=\"1\" class=\"dataframe\">\n",
       "  <thead>\n",
       "    <tr style=\"text-align: right;\">\n",
       "      <th></th>\n",
       "      <th>movieId</th>\n",
       "      <th>title</th>\n",
       "      <th>genres</th>\n",
       "    </tr>\n",
       "  </thead>\n",
       "  <tbody>\n",
       "    <tr>\n",
       "      <th>0</th>\n",
       "      <td>1</td>\n",
       "      <td>Toy Story (1995)</td>\n",
       "      <td>Adventure|Animation|Children|Comedy|Fantasy</td>\n",
       "    </tr>\n",
       "    <tr>\n",
       "      <th>1</th>\n",
       "      <td>2</td>\n",
       "      <td>Jumanji (1995)</td>\n",
       "      <td>Adventure|Children|Fantasy</td>\n",
       "    </tr>\n",
       "    <tr>\n",
       "      <th>2</th>\n",
       "      <td>3</td>\n",
       "      <td>Grumpier Old Men (1995)</td>\n",
       "      <td>Comedy|Romance</td>\n",
       "    </tr>\n",
       "    <tr>\n",
       "      <th>3</th>\n",
       "      <td>4</td>\n",
       "      <td>Waiting to Exhale (1995)</td>\n",
       "      <td>Comedy|Drama|Romance</td>\n",
       "    </tr>\n",
       "    <tr>\n",
       "      <th>4</th>\n",
       "      <td>5</td>\n",
       "      <td>Father of the Bride Part II (1995)</td>\n",
       "      <td>Comedy</td>\n",
       "    </tr>\n",
       "  </tbody>\n",
       "</table>\n",
       "</div>"
      ],
      "text/plain": [
       "   movieId                               title  \\\n",
       "0        1                    Toy Story (1995)   \n",
       "1        2                      Jumanji (1995)   \n",
       "2        3             Grumpier Old Men (1995)   \n",
       "3        4            Waiting to Exhale (1995)   \n",
       "4        5  Father of the Bride Part II (1995)   \n",
       "\n",
       "                                        genres  \n",
       "0  Adventure|Animation|Children|Comedy|Fantasy  \n",
       "1                   Adventure|Children|Fantasy  \n",
       "2                               Comedy|Romance  \n",
       "3                         Comedy|Drama|Romance  \n",
       "4                                       Comedy  "
      ]
     },
     "execution_count": 2,
     "metadata": {},
     "output_type": "execute_result"
    }
   ],
   "source": [
    "movies_data=pd.read_csv(\"movies.csv\")\n",
    "movies_data.head()"
   ]
  },
  {
   "cell_type": "code",
   "execution_count": 3,
   "metadata": {},
   "outputs": [
    {
     "data": {
      "text/html": [
       "<div>\n",
       "<style scoped>\n",
       "    .dataframe tbody tr th:only-of-type {\n",
       "        vertical-align: middle;\n",
       "    }\n",
       "\n",
       "    .dataframe tbody tr th {\n",
       "        vertical-align: top;\n",
       "    }\n",
       "\n",
       "    .dataframe thead th {\n",
       "        text-align: right;\n",
       "    }\n",
       "</style>\n",
       "<table border=\"1\" class=\"dataframe\">\n",
       "  <thead>\n",
       "    <tr style=\"text-align: right;\">\n",
       "      <th></th>\n",
       "      <th>movieId</th>\n",
       "      <th>imdbId</th>\n",
       "      <th>tmdbId</th>\n",
       "    </tr>\n",
       "  </thead>\n",
       "  <tbody>\n",
       "    <tr>\n",
       "      <th>0</th>\n",
       "      <td>1</td>\n",
       "      <td>114709</td>\n",
       "      <td>862.0</td>\n",
       "    </tr>\n",
       "    <tr>\n",
       "      <th>1</th>\n",
       "      <td>2</td>\n",
       "      <td>113497</td>\n",
       "      <td>8844.0</td>\n",
       "    </tr>\n",
       "    <tr>\n",
       "      <th>2</th>\n",
       "      <td>3</td>\n",
       "      <td>113228</td>\n",
       "      <td>15602.0</td>\n",
       "    </tr>\n",
       "    <tr>\n",
       "      <th>3</th>\n",
       "      <td>4</td>\n",
       "      <td>114885</td>\n",
       "      <td>31357.0</td>\n",
       "    </tr>\n",
       "    <tr>\n",
       "      <th>4</th>\n",
       "      <td>5</td>\n",
       "      <td>113041</td>\n",
       "      <td>11862.0</td>\n",
       "    </tr>\n",
       "  </tbody>\n",
       "</table>\n",
       "</div>"
      ],
      "text/plain": [
       "   movieId  imdbId   tmdbId\n",
       "0        1  114709    862.0\n",
       "1        2  113497   8844.0\n",
       "2        3  113228  15602.0\n",
       "3        4  114885  31357.0\n",
       "4        5  113041  11862.0"
      ]
     },
     "execution_count": 3,
     "metadata": {},
     "output_type": "execute_result"
    }
   ],
   "source": [
    "links_data=pd.read_csv(\"links.csv\")\n",
    "links_data.head()"
   ]
  },
  {
   "cell_type": "code",
   "execution_count": 4,
   "metadata": {},
   "outputs": [
    {
     "data": {
      "text/html": [
       "<div>\n",
       "<style scoped>\n",
       "    .dataframe tbody tr th:only-of-type {\n",
       "        vertical-align: middle;\n",
       "    }\n",
       "\n",
       "    .dataframe tbody tr th {\n",
       "        vertical-align: top;\n",
       "    }\n",
       "\n",
       "    .dataframe thead th {\n",
       "        text-align: right;\n",
       "    }\n",
       "</style>\n",
       "<table border=\"1\" class=\"dataframe\">\n",
       "  <thead>\n",
       "    <tr style=\"text-align: right;\">\n",
       "      <th></th>\n",
       "      <th>userId</th>\n",
       "      <th>movieId</th>\n",
       "      <th>rating</th>\n",
       "      <th>timestamp</th>\n",
       "    </tr>\n",
       "  </thead>\n",
       "  <tbody>\n",
       "    <tr>\n",
       "      <th>0</th>\n",
       "      <td>1</td>\n",
       "      <td>1</td>\n",
       "      <td>4.0</td>\n",
       "      <td>964982703</td>\n",
       "    </tr>\n",
       "    <tr>\n",
       "      <th>1</th>\n",
       "      <td>1</td>\n",
       "      <td>3</td>\n",
       "      <td>4.0</td>\n",
       "      <td>964981247</td>\n",
       "    </tr>\n",
       "    <tr>\n",
       "      <th>2</th>\n",
       "      <td>1</td>\n",
       "      <td>6</td>\n",
       "      <td>4.0</td>\n",
       "      <td>964982224</td>\n",
       "    </tr>\n",
       "    <tr>\n",
       "      <th>3</th>\n",
       "      <td>1</td>\n",
       "      <td>47</td>\n",
       "      <td>5.0</td>\n",
       "      <td>964983815</td>\n",
       "    </tr>\n",
       "    <tr>\n",
       "      <th>4</th>\n",
       "      <td>1</td>\n",
       "      <td>50</td>\n",
       "      <td>5.0</td>\n",
       "      <td>964982931</td>\n",
       "    </tr>\n",
       "  </tbody>\n",
       "</table>\n",
       "</div>"
      ],
      "text/plain": [
       "   userId  movieId  rating  timestamp\n",
       "0       1        1     4.0  964982703\n",
       "1       1        3     4.0  964981247\n",
       "2       1        6     4.0  964982224\n",
       "3       1       47     5.0  964983815\n",
       "4       1       50     5.0  964982931"
      ]
     },
     "execution_count": 4,
     "metadata": {},
     "output_type": "execute_result"
    }
   ],
   "source": [
    "rating_data=pd.read_csv(\"ratings.csv\")\n",
    "rating_data.head()"
   ]
  },
  {
   "cell_type": "code",
   "execution_count": 5,
   "metadata": {},
   "outputs": [
    {
     "data": {
      "text/html": [
       "<div>\n",
       "<style scoped>\n",
       "    .dataframe tbody tr th:only-of-type {\n",
       "        vertical-align: middle;\n",
       "    }\n",
       "\n",
       "    .dataframe tbody tr th {\n",
       "        vertical-align: top;\n",
       "    }\n",
       "\n",
       "    .dataframe thead th {\n",
       "        text-align: right;\n",
       "    }\n",
       "</style>\n",
       "<table border=\"1\" class=\"dataframe\">\n",
       "  <thead>\n",
       "    <tr style=\"text-align: right;\">\n",
       "      <th></th>\n",
       "      <th>userId</th>\n",
       "      <th>movieId</th>\n",
       "      <th>tag</th>\n",
       "      <th>timestamp</th>\n",
       "    </tr>\n",
       "  </thead>\n",
       "  <tbody>\n",
       "    <tr>\n",
       "      <th>0</th>\n",
       "      <td>2</td>\n",
       "      <td>60756</td>\n",
       "      <td>funny</td>\n",
       "      <td>1445714994</td>\n",
       "    </tr>\n",
       "    <tr>\n",
       "      <th>1</th>\n",
       "      <td>2</td>\n",
       "      <td>60756</td>\n",
       "      <td>Highly quotable</td>\n",
       "      <td>1445714996</td>\n",
       "    </tr>\n",
       "    <tr>\n",
       "      <th>2</th>\n",
       "      <td>2</td>\n",
       "      <td>60756</td>\n",
       "      <td>will ferrell</td>\n",
       "      <td>1445714992</td>\n",
       "    </tr>\n",
       "    <tr>\n",
       "      <th>3</th>\n",
       "      <td>2</td>\n",
       "      <td>89774</td>\n",
       "      <td>Boxing story</td>\n",
       "      <td>1445715207</td>\n",
       "    </tr>\n",
       "    <tr>\n",
       "      <th>4</th>\n",
       "      <td>2</td>\n",
       "      <td>89774</td>\n",
       "      <td>MMA</td>\n",
       "      <td>1445715200</td>\n",
       "    </tr>\n",
       "  </tbody>\n",
       "</table>\n",
       "</div>"
      ],
      "text/plain": [
       "   userId  movieId              tag   timestamp\n",
       "0       2    60756            funny  1445714994\n",
       "1       2    60756  Highly quotable  1445714996\n",
       "2       2    60756     will ferrell  1445714992\n",
       "3       2    89774     Boxing story  1445715207\n",
       "4       2    89774              MMA  1445715200"
      ]
     },
     "execution_count": 5,
     "metadata": {},
     "output_type": "execute_result"
    }
   ],
   "source": [
    "tags_data=pd.read_csv(\"tags.csv\")\n",
    "tags_data.head()"
   ]
  },
  {
   "cell_type": "markdown",
   "metadata": {},
   "source": [
    "### __5. DATA PREPARATION__"
   ]
  },
  {
   "cell_type": "markdown",
   "metadata": {},
   "source": [
    "__5.1 DATA CLEANING__"
   ]
  },
  {
   "cell_type": "markdown",
   "metadata": {},
   "source": [
    "__Shape of all the data__"
   ]
  },
  {
   "cell_type": "code",
   "execution_count": 6,
   "metadata": {},
   "outputs": [
    {
     "name": "stdout",
     "output_type": "stream",
     "text": [
      "Movies: (9742, 3)\n",
      "Links: (9742, 3)\n",
      "Ratings: (100836, 4)\n",
      "Tags: (3683, 4)\n"
     ]
    }
   ],
   "source": [
    "print(\"Movies: \"+str(movies_data.shape))\n",
    "print(\"Links: \"+str(links_data.shape))\n",
    "print(\"Ratings: \"+str(rating_data.shape))\n",
    "print(\"Tags: \"+str(tags_data.shape))"
   ]
  },
  {
   "cell_type": "markdown",
   "metadata": {},
   "source": [
    "__Drop the NaN rows__"
   ]
  },
  {
   "cell_type": "code",
   "execution_count": 7,
   "metadata": {},
   "outputs": [
    {
     "data": {
      "text/html": [
       "<div>\n",
       "<style scoped>\n",
       "    .dataframe tbody tr th:only-of-type {\n",
       "        vertical-align: middle;\n",
       "    }\n",
       "\n",
       "    .dataframe tbody tr th {\n",
       "        vertical-align: top;\n",
       "    }\n",
       "\n",
       "    .dataframe thead th {\n",
       "        text-align: right;\n",
       "    }\n",
       "</style>\n",
       "<table border=\"1\" class=\"dataframe\">\n",
       "  <thead>\n",
       "    <tr style=\"text-align: right;\">\n",
       "      <th></th>\n",
       "      <th>movieId</th>\n",
       "      <th>title</th>\n",
       "      <th>genres</th>\n",
       "    </tr>\n",
       "  </thead>\n",
       "  <tbody>\n",
       "    <tr>\n",
       "      <th>0</th>\n",
       "      <td>1</td>\n",
       "      <td>Toy Story (1995)</td>\n",
       "      <td>Adventure|Animation|Children|Comedy|Fantasy</td>\n",
       "    </tr>\n",
       "    <tr>\n",
       "      <th>1</th>\n",
       "      <td>2</td>\n",
       "      <td>Jumanji (1995)</td>\n",
       "      <td>Adventure|Children|Fantasy</td>\n",
       "    </tr>\n",
       "    <tr>\n",
       "      <th>2</th>\n",
       "      <td>3</td>\n",
       "      <td>Grumpier Old Men (1995)</td>\n",
       "      <td>Comedy|Romance</td>\n",
       "    </tr>\n",
       "    <tr>\n",
       "      <th>3</th>\n",
       "      <td>4</td>\n",
       "      <td>Waiting to Exhale (1995)</td>\n",
       "      <td>Comedy|Drama|Romance</td>\n",
       "    </tr>\n",
       "    <tr>\n",
       "      <th>4</th>\n",
       "      <td>5</td>\n",
       "      <td>Father of the Bride Part II (1995)</td>\n",
       "      <td>Comedy</td>\n",
       "    </tr>\n",
       "  </tbody>\n",
       "</table>\n",
       "</div>"
      ],
      "text/plain": [
       "   movieId                               title  \\\n",
       "0        1                    Toy Story (1995)   \n",
       "1        2                      Jumanji (1995)   \n",
       "2        3             Grumpier Old Men (1995)   \n",
       "3        4            Waiting to Exhale (1995)   \n",
       "4        5  Father of the Bride Part II (1995)   \n",
       "\n",
       "                                        genres  \n",
       "0  Adventure|Animation|Children|Comedy|Fantasy  \n",
       "1                   Adventure|Children|Fantasy  \n",
       "2                               Comedy|Romance  \n",
       "3                         Comedy|Drama|Romance  \n",
       "4                                       Comedy  "
      ]
     },
     "execution_count": 7,
     "metadata": {},
     "output_type": "execute_result"
    }
   ],
   "source": [
    "movies_data=movies_data.dropna()\n",
    "movies_data.head()"
   ]
  },
  {
   "cell_type": "code",
   "execution_count": 8,
   "metadata": {},
   "outputs": [
    {
     "data": {
      "text/html": [
       "<div>\n",
       "<style scoped>\n",
       "    .dataframe tbody tr th:only-of-type {\n",
       "        vertical-align: middle;\n",
       "    }\n",
       "\n",
       "    .dataframe tbody tr th {\n",
       "        vertical-align: top;\n",
       "    }\n",
       "\n",
       "    .dataframe thead th {\n",
       "        text-align: right;\n",
       "    }\n",
       "</style>\n",
       "<table border=\"1\" class=\"dataframe\">\n",
       "  <thead>\n",
       "    <tr style=\"text-align: right;\">\n",
       "      <th></th>\n",
       "      <th>movieId</th>\n",
       "      <th>imdbId</th>\n",
       "      <th>tmdbId</th>\n",
       "    </tr>\n",
       "  </thead>\n",
       "  <tbody>\n",
       "    <tr>\n",
       "      <th>0</th>\n",
       "      <td>1</td>\n",
       "      <td>114709</td>\n",
       "      <td>862.0</td>\n",
       "    </tr>\n",
       "    <tr>\n",
       "      <th>1</th>\n",
       "      <td>2</td>\n",
       "      <td>113497</td>\n",
       "      <td>8844.0</td>\n",
       "    </tr>\n",
       "    <tr>\n",
       "      <th>2</th>\n",
       "      <td>3</td>\n",
       "      <td>113228</td>\n",
       "      <td>15602.0</td>\n",
       "    </tr>\n",
       "    <tr>\n",
       "      <th>3</th>\n",
       "      <td>4</td>\n",
       "      <td>114885</td>\n",
       "      <td>31357.0</td>\n",
       "    </tr>\n",
       "    <tr>\n",
       "      <th>4</th>\n",
       "      <td>5</td>\n",
       "      <td>113041</td>\n",
       "      <td>11862.0</td>\n",
       "    </tr>\n",
       "  </tbody>\n",
       "</table>\n",
       "</div>"
      ],
      "text/plain": [
       "   movieId  imdbId   tmdbId\n",
       "0        1  114709    862.0\n",
       "1        2  113497   8844.0\n",
       "2        3  113228  15602.0\n",
       "3        4  114885  31357.0\n",
       "4        5  113041  11862.0"
      ]
     },
     "execution_count": 8,
     "metadata": {},
     "output_type": "execute_result"
    }
   ],
   "source": [
    "links_data=links_data.dropna()\n",
    "links_data.head()"
   ]
  },
  {
   "cell_type": "code",
   "execution_count": 9,
   "metadata": {},
   "outputs": [
    {
     "data": {
      "text/html": [
       "<div>\n",
       "<style scoped>\n",
       "    .dataframe tbody tr th:only-of-type {\n",
       "        vertical-align: middle;\n",
       "    }\n",
       "\n",
       "    .dataframe tbody tr th {\n",
       "        vertical-align: top;\n",
       "    }\n",
       "\n",
       "    .dataframe thead th {\n",
       "        text-align: right;\n",
       "    }\n",
       "</style>\n",
       "<table border=\"1\" class=\"dataframe\">\n",
       "  <thead>\n",
       "    <tr style=\"text-align: right;\">\n",
       "      <th></th>\n",
       "      <th>userId</th>\n",
       "      <th>movieId</th>\n",
       "      <th>rating</th>\n",
       "      <th>timestamp</th>\n",
       "    </tr>\n",
       "  </thead>\n",
       "  <tbody>\n",
       "    <tr>\n",
       "      <th>0</th>\n",
       "      <td>1</td>\n",
       "      <td>1</td>\n",
       "      <td>4.0</td>\n",
       "      <td>964982703</td>\n",
       "    </tr>\n",
       "    <tr>\n",
       "      <th>1</th>\n",
       "      <td>1</td>\n",
       "      <td>3</td>\n",
       "      <td>4.0</td>\n",
       "      <td>964981247</td>\n",
       "    </tr>\n",
       "    <tr>\n",
       "      <th>2</th>\n",
       "      <td>1</td>\n",
       "      <td>6</td>\n",
       "      <td>4.0</td>\n",
       "      <td>964982224</td>\n",
       "    </tr>\n",
       "    <tr>\n",
       "      <th>3</th>\n",
       "      <td>1</td>\n",
       "      <td>47</td>\n",
       "      <td>5.0</td>\n",
       "      <td>964983815</td>\n",
       "    </tr>\n",
       "    <tr>\n",
       "      <th>4</th>\n",
       "      <td>1</td>\n",
       "      <td>50</td>\n",
       "      <td>5.0</td>\n",
       "      <td>964982931</td>\n",
       "    </tr>\n",
       "  </tbody>\n",
       "</table>\n",
       "</div>"
      ],
      "text/plain": [
       "   userId  movieId  rating  timestamp\n",
       "0       1        1     4.0  964982703\n",
       "1       1        3     4.0  964981247\n",
       "2       1        6     4.0  964982224\n",
       "3       1       47     5.0  964983815\n",
       "4       1       50     5.0  964982931"
      ]
     },
     "execution_count": 9,
     "metadata": {},
     "output_type": "execute_result"
    }
   ],
   "source": [
    "rating_data=rating_data.dropna()\n",
    "rating_data.head()"
   ]
  },
  {
   "cell_type": "code",
   "execution_count": 10,
   "metadata": {},
   "outputs": [
    {
     "data": {
      "text/html": [
       "<div>\n",
       "<style scoped>\n",
       "    .dataframe tbody tr th:only-of-type {\n",
       "        vertical-align: middle;\n",
       "    }\n",
       "\n",
       "    .dataframe tbody tr th {\n",
       "        vertical-align: top;\n",
       "    }\n",
       "\n",
       "    .dataframe thead th {\n",
       "        text-align: right;\n",
       "    }\n",
       "</style>\n",
       "<table border=\"1\" class=\"dataframe\">\n",
       "  <thead>\n",
       "    <tr style=\"text-align: right;\">\n",
       "      <th></th>\n",
       "      <th>userId</th>\n",
       "      <th>movieId</th>\n",
       "      <th>tag</th>\n",
       "      <th>timestamp</th>\n",
       "    </tr>\n",
       "  </thead>\n",
       "  <tbody>\n",
       "    <tr>\n",
       "      <th>0</th>\n",
       "      <td>2</td>\n",
       "      <td>60756</td>\n",
       "      <td>funny</td>\n",
       "      <td>1445714994</td>\n",
       "    </tr>\n",
       "    <tr>\n",
       "      <th>1</th>\n",
       "      <td>2</td>\n",
       "      <td>60756</td>\n",
       "      <td>Highly quotable</td>\n",
       "      <td>1445714996</td>\n",
       "    </tr>\n",
       "    <tr>\n",
       "      <th>2</th>\n",
       "      <td>2</td>\n",
       "      <td>60756</td>\n",
       "      <td>will ferrell</td>\n",
       "      <td>1445714992</td>\n",
       "    </tr>\n",
       "    <tr>\n",
       "      <th>3</th>\n",
       "      <td>2</td>\n",
       "      <td>89774</td>\n",
       "      <td>Boxing story</td>\n",
       "      <td>1445715207</td>\n",
       "    </tr>\n",
       "    <tr>\n",
       "      <th>4</th>\n",
       "      <td>2</td>\n",
       "      <td>89774</td>\n",
       "      <td>MMA</td>\n",
       "      <td>1445715200</td>\n",
       "    </tr>\n",
       "  </tbody>\n",
       "</table>\n",
       "</div>"
      ],
      "text/plain": [
       "   userId  movieId              tag   timestamp\n",
       "0       2    60756            funny  1445714994\n",
       "1       2    60756  Highly quotable  1445714996\n",
       "2       2    60756     will ferrell  1445714992\n",
       "3       2    89774     Boxing story  1445715207\n",
       "4       2    89774              MMA  1445715200"
      ]
     },
     "execution_count": 10,
     "metadata": {},
     "output_type": "execute_result"
    }
   ],
   "source": [
    "tags_data=tags_data.dropna()\n",
    "tags_data.head()"
   ]
  },
  {
   "cell_type": "markdown",
   "metadata": {},
   "source": [
    "__Shape of all the data__"
   ]
  },
  {
   "cell_type": "code",
   "execution_count": 11,
   "metadata": {},
   "outputs": [
    {
     "name": "stdout",
     "output_type": "stream",
     "text": [
      "Movies: (9742, 3)\n",
      "Links: (9734, 3)\n",
      "Ratings: (100836, 4)\n",
      "Tags: (3683, 4)\n"
     ]
    }
   ],
   "source": [
    "print(\"Movies: \"+str(movies_data.shape))\n",
    "print(\"Links: \"+str(links_data.shape))\n",
    "print(\"Ratings: \"+str(rating_data.shape))\n",
    "print(\"Tags: \"+str(tags_data.shape))"
   ]
  },
  {
   "cell_type": "markdown",
   "metadata": {},
   "source": [
    "__Rating distribution__"
   ]
  },
  {
   "cell_type": "code",
   "execution_count": 12,
   "metadata": {},
   "outputs": [
    {
     "data": {
      "image/png": "[encoded data removed]",
      "text/plain": [
       "<Figure size 2160x1008 with 1 Axes>"
      ]
     },
     "metadata": {
      "needs_background": "light"
     },
     "output_type": "display_data"
    }
   ],
   "source": [
    "plt.figure(figsize=(30,14))\n",
    "g = sns.countplot(x=rating_data['rating'], data=rating_data)\n",
    "g.set_xticklabels(g.get_xticklabels(), rotation=90, ha=\"right\");\n",
    "g.set_title('Number of ratings vs users');"
   ]
  },
  {
   "cell_type": "markdown",
   "metadata": {},
   "source": [
    "__Tags by each user__"
   ]
  },
  {
   "cell_type": "code",
   "execution_count": 13,
   "metadata": {},
   "outputs": [
    {
     "data": {
      "image/png": "[encoded data removed]",
      "text/plain": [
       "<Figure size 2160x1008 with 1 Axes>"
      ]
     },
     "metadata": {
      "needs_background": "light"
     },
     "output_type": "display_data"
    }
   ],
   "source": [
    "plt.figure(figsize=(30,14))\n",
    "g = sns.countplot(x=tags_data['userId'], data=tags_data)\n",
    "g.set_xticklabels(g.get_xticklabels(), rotation=90, ha=\"right\");\n",
    "g.set_title('Number of tags vs users');"
   ]
  },
  {
   "cell_type": "markdown",
   "metadata": {},
   "source": [
    "__5.2 FORMATTING__"
   ]
  },
  {
   "cell_type": "markdown",
   "metadata": {},
   "source": [
    "__Combining the tag word from tag table for each user and movie__"
   ]
  },
  {
   "cell_type": "code",
   "execution_count": 26,
   "metadata": {},
   "outputs": [
    {
     "data": {
      "text/html": [
       "<div>\n",
       "<style scoped>\n",
       "    .dataframe tbody tr th:only-of-type {\n",
       "        vertical-align: middle;\n",
       "    }\n",
       "\n",
       "    .dataframe tbody tr th {\n",
       "        vertical-align: top;\n",
       "    }\n",
       "\n",
       "    .dataframe thead th {\n",
       "        text-align: right;\n",
       "    }\n",
       "</style>\n",
       "<table border=\"1\" class=\"dataframe\">\n",
       "  <thead>\n",
       "    <tr style=\"text-align: right;\">\n",
       "      <th></th>\n",
       "      <th>userId</th>\n",
       "      <th>movieId</th>\n",
       "      <th>rating</th>\n",
       "      <th>timestamp</th>\n",
       "      <th>tag</th>\n",
       "    </tr>\n",
       "  </thead>\n",
       "  <tbody>\n",
       "    <tr>\n",
       "      <th>0</th>\n",
       "      <td>1</td>\n",
       "      <td>1</td>\n",
       "      <td>4.0</td>\n",
       "      <td>964982703</td>\n",
       "      <td></td>\n",
       "    </tr>\n",
       "    <tr>\n",
       "      <th>1</th>\n",
       "      <td>1</td>\n",
       "      <td>3</td>\n",
       "      <td>4.0</td>\n",
       "      <td>964981247</td>\n",
       "      <td></td>\n",
       "    </tr>\n",
       "    <tr>\n",
       "      <th>2</th>\n",
       "      <td>1</td>\n",
       "      <td>6</td>\n",
       "      <td>4.0</td>\n",
       "      <td>964982224</td>\n",
       "      <td></td>\n",
       "    </tr>\n",
       "    <tr>\n",
       "      <th>3</th>\n",
       "      <td>1</td>\n",
       "      <td>47</td>\n",
       "      <td>5.0</td>\n",
       "      <td>964983815</td>\n",
       "      <td></td>\n",
       "    </tr>\n",
       "    <tr>\n",
       "      <th>4</th>\n",
       "      <td>1</td>\n",
       "      <td>50</td>\n",
       "      <td>5.0</td>\n",
       "      <td>964982931</td>\n",
       "      <td></td>\n",
       "    </tr>\n",
       "  </tbody>\n",
       "</table>\n",
       "</div>"
      ],
      "text/plain": [
       "   userId  movieId  rating  timestamp tag\n",
       "0       1        1     4.0  964982703    \n",
       "1       1        3     4.0  964981247    \n",
       "2       1        6     4.0  964982224    \n",
       "3       1       47     5.0  964983815    \n",
       "4       1       50     5.0  964982931    "
      ]
     },
     "execution_count": 26,
     "metadata": {},
     "output_type": "execute_result"
    }
   ],
   "source": [
    "# new column for storing tag\n",
    "rating_data['tag'] = ''\n",
    "# assigning tags for each row with respect to the player\n",
    "for i in range(len(rating_data)):\n",
    "        movie_id=rating_data['movieId'].values[i]\n",
    "        user_id=rating_data['userId'].values[i]\n",
    "        for j in range(len(tags_data)):\n",
    "            if ((tags_data['movieId'].values[j] == movie_id) & (tags_data['userId'].values[j]==user_id)):\n",
    "                tag= tags_data['tag'].values[j]\n",
    "                rating_data['tag'].values[i] = tag\n",
    "rating_data.head()"
   ]
  },
  {
   "cell_type": "markdown",
   "metadata": {},
   "source": [
    "__Dropping the rows with no tags__"
   ]
  },
  {
   "cell_type": "code",
   "execution_count": 27,
   "metadata": {},
   "outputs": [
    {
     "data": {
      "text/html": [
       "<div>\n",
       "<style scoped>\n",
       "    .dataframe tbody tr th:only-of-type {\n",
       "        vertical-align: middle;\n",
       "    }\n",
       "\n",
       "    .dataframe tbody tr th {\n",
       "        vertical-align: top;\n",
       "    }\n",
       "\n",
       "    .dataframe thead th {\n",
       "        text-align: right;\n",
       "    }\n",
       "</style>\n",
       "<table border=\"1\" class=\"dataframe\">\n",
       "  <thead>\n",
       "    <tr style=\"text-align: right;\">\n",
       "      <th></th>\n",
       "      <th>userId</th>\n",
       "      <th>movieId</th>\n",
       "      <th>rating</th>\n",
       "      <th>timestamp</th>\n",
       "      <th>tag</th>\n",
       "    </tr>\n",
       "  </thead>\n",
       "  <tbody>\n",
       "    <tr>\n",
       "      <th>241</th>\n",
       "      <td>2</td>\n",
       "      <td>60756</td>\n",
       "      <td>5.0</td>\n",
       "      <td>1445714980</td>\n",
       "      <td>will ferrell</td>\n",
       "    </tr>\n",
       "    <tr>\n",
       "      <th>250</th>\n",
       "      <td>2</td>\n",
       "      <td>89774</td>\n",
       "      <td>5.0</td>\n",
       "      <td>1445715189</td>\n",
       "      <td>Tom Hardy</td>\n",
       "    </tr>\n",
       "    <tr>\n",
       "      <th>254</th>\n",
       "      <td>2</td>\n",
       "      <td>106782</td>\n",
       "      <td>5.0</td>\n",
       "      <td>1445714966</td>\n",
       "      <td>Martin Scorsese</td>\n",
       "    </tr>\n",
       "    <tr>\n",
       "      <th>1019</th>\n",
       "      <td>7</td>\n",
       "      <td>48516</td>\n",
       "      <td>1.0</td>\n",
       "      <td>1169687318</td>\n",
       "      <td>way too long</td>\n",
       "    </tr>\n",
       "    <tr>\n",
       "      <th>1808</th>\n",
       "      <td>18</td>\n",
       "      <td>431</td>\n",
       "      <td>4.0</td>\n",
       "      <td>1462138790</td>\n",
       "      <td>mafia</td>\n",
       "    </tr>\n",
       "  </tbody>\n",
       "</table>\n",
       "</div>"
      ],
      "text/plain": [
       "      userId  movieId  rating   timestamp              tag\n",
       "241        2    60756     5.0  1445714980     will ferrell\n",
       "250        2    89774     5.0  1445715189        Tom Hardy\n",
       "254        2   106782     5.0  1445714966  Martin Scorsese\n",
       "1019       7    48516     1.0  1169687318     way too long\n",
       "1808      18      431     4.0  1462138790            mafia"
      ]
     },
     "execution_count": 27,
     "metadata": {},
     "output_type": "execute_result"
    }
   ],
   "source": [
    "rating_data['tag'].replace('', np.nan, inplace=True)\n",
    "rating_data=rating_data.dropna()\n",
    "rating_data.head()"
   ]
  },
  {
   "cell_type": "markdown",
   "metadata": {},
   "source": [
    "__Reset the index and drop the old index column__"
   ]
  },
  {
   "cell_type": "code",
   "execution_count": 28,
   "metadata": {},
   "outputs": [
    {
     "data": {
      "text/html": [
       "<div>\n",
       "<style scoped>\n",
       "    .dataframe tbody tr th:only-of-type {\n",
       "        vertical-align: middle;\n",
       "    }\n",
       "\n",
       "    .dataframe tbody tr th {\n",
       "        vertical-align: top;\n",
       "    }\n",
       "\n",
       "    .dataframe thead th {\n",
       "        text-align: right;\n",
       "    }\n",
       "</style>\n",
       "<table border=\"1\" class=\"dataframe\">\n",
       "  <thead>\n",
       "    <tr style=\"text-align: right;\">\n",
       "      <th></th>\n",
       "      <th>index</th>\n",
       "      <th>userId</th>\n",
       "      <th>movieId</th>\n",
       "      <th>rating</th>\n",
       "      <th>tag</th>\n",
       "    </tr>\n",
       "  </thead>\n",
       "  <tbody>\n",
       "    <tr>\n",
       "      <th>0</th>\n",
       "      <td>241</td>\n",
       "      <td>2</td>\n",
       "      <td>60756</td>\n",
       "      <td>5.0</td>\n",
       "      <td>will ferrell</td>\n",
       "    </tr>\n",
       "    <tr>\n",
       "      <th>1</th>\n",
       "      <td>250</td>\n",
       "      <td>2</td>\n",
       "      <td>89774</td>\n",
       "      <td>5.0</td>\n",
       "      <td>Tom Hardy</td>\n",
       "    </tr>\n",
       "    <tr>\n",
       "      <th>2</th>\n",
       "      <td>254</td>\n",
       "      <td>2</td>\n",
       "      <td>106782</td>\n",
       "      <td>5.0</td>\n",
       "      <td>Martin Scorsese</td>\n",
       "    </tr>\n",
       "    <tr>\n",
       "      <th>3</th>\n",
       "      <td>1019</td>\n",
       "      <td>7</td>\n",
       "      <td>48516</td>\n",
       "      <td>1.0</td>\n",
       "      <td>way too long</td>\n",
       "    </tr>\n",
       "    <tr>\n",
       "      <th>4</th>\n",
       "      <td>1808</td>\n",
       "      <td>18</td>\n",
       "      <td>431</td>\n",
       "      <td>4.0</td>\n",
       "      <td>mafia</td>\n",
       "    </tr>\n",
       "  </tbody>\n",
       "</table>\n",
       "</div>"
      ],
      "text/plain": [
       "   index  userId  movieId  rating              tag\n",
       "0    241       2    60756     5.0     will ferrell\n",
       "1    250       2    89774     5.0        Tom Hardy\n",
       "2    254       2   106782     5.0  Martin Scorsese\n",
       "3   1019       7    48516     1.0     way too long\n",
       "4   1808      18      431     4.0            mafia"
      ]
     },
     "execution_count": 28,
     "metadata": {},
     "output_type": "execute_result"
    }
   ],
   "source": [
    "rating_data=rating_data.reset_index()\n",
    "del rating_data['timestamp']\n",
    "rating_data.head()"
   ]
  },
  {
   "cell_type": "markdown",
   "metadata": {},
   "source": [
    "__Printing the dimension of the dataset__"
   ]
  },
  {
   "cell_type": "code",
   "execution_count": 29,
   "metadata": {},
   "outputs": [
    {
     "data": {
      "text/plain": [
       "(1635, 4)"
      ]
     },
     "execution_count": 29,
     "metadata": {},
     "output_type": "execute_result"
    }
   ],
   "source": [
    "del rating_data['index']\n",
    "rating_data.shape"
   ]
  },
  {
   "cell_type": "markdown",
   "metadata": {},
   "source": [
    "__Attributes and datatypes of the dataset__"
   ]
  },
  {
   "cell_type": "code",
   "execution_count": 30,
   "metadata": {},
   "outputs": [
    {
     "name": "stdout",
     "output_type": "stream",
     "text": [
      "userId  is  int64\n",
      "movieId  is  int64\n",
      "rating  is  float64\n",
      "tag  is  object\n"
     ]
    }
   ],
   "source": [
    "for column in rating_data.columns:\n",
    "    print(column, \" is \", rating_data[column].dtype.name)"
   ]
  },
  {
   "cell_type": "markdown",
   "metadata": {},
   "source": [
    "__5.3 VISUALIZATION__"
   ]
  },
  {
   "cell_type": "markdown",
   "metadata": {},
   "source": [
    "__Barplot for ratings__"
   ]
  },
  {
   "cell_type": "code",
   "execution_count": 31,
   "metadata": {},
   "outputs": [
    {
     "data": {
      "image/png": "[encoded data removed]",
      "text/plain": [
       "<Figure size 1440x720 with 1 Axes>"
      ]
     },
     "metadata": {
      "needs_background": "light"
     },
     "output_type": "display_data"
    }
   ],
   "source": [
    "plt.figure(figsize=(20,10))\n",
    "g = sns.countplot(x=rating_data['rating'], data=rating_data)\n",
    "g.set_xticklabels(g.get_xticklabels(), rotation=60, ha=\"right\");\n",
    "g.set_title('Rating vs Count');"
   ]
  },
  {
   "cell_type": "markdown",
   "metadata": {},
   "source": [
    "__Barplot for user vs number of ratinngs__"
   ]
  },
  {
   "cell_type": "code",
   "execution_count": 32,
   "metadata": {},
   "outputs": [
    {
     "data": {
      "image/png": "[encoded data removed]",
      "text/plain": [
       "<Figure size 1440x720 with 1 Axes>"
      ]
     },
     "metadata": {
      "needs_background": "light"
     },
     "output_type": "display_data"
    }
   ],
   "source": [
    "plt.figure(figsize=(20,10))\n",
    "g = sns.countplot(x=rating_data['userId'], data=rating_data)\n",
    "g.set_xticklabels(g.get_xticklabels(), rotation=60, ha=\"right\");\n",
    "g.set_title('User vs Number Ratings');"
   ]
  },
  {
   "cell_type": "markdown",
   "metadata": {},
   "source": [
    "__Deleting PlayerLinernumber to release memory__"
   ]
  },
  {
   "cell_type": "code",
   "execution_count": 33,
   "metadata": {},
   "outputs": [],
   "source": [
    "del tags_data"
   ]
  },
  {
   "cell_type": "markdown",
   "metadata": {},
   "source": [
    "__5.4 FEATURE ENGINEERING__"
   ]
  },
  {
   "cell_type": "markdown",
   "metadata": {},
   "source": [
    "__Rearranging columns__"
   ]
  },
  {
   "cell_type": "code",
   "execution_count": 34,
   "metadata": {},
   "outputs": [
    {
     "data": {
      "text/html": [
       "<div>\n",
       "<style scoped>\n",
       "    .dataframe tbody tr th:only-of-type {\n",
       "        vertical-align: middle;\n",
       "    }\n",
       "\n",
       "    .dataframe tbody tr th {\n",
       "        vertical-align: top;\n",
       "    }\n",
       "\n",
       "    .dataframe thead th {\n",
       "        text-align: right;\n",
       "    }\n",
       "</style>\n",
       "<table border=\"1\" class=\"dataframe\">\n",
       "  <thead>\n",
       "    <tr style=\"text-align: right;\">\n",
       "      <th></th>\n",
       "      <th>movieId</th>\n",
       "      <th>userId</th>\n",
       "      <th>tag</th>\n",
       "      <th>rating</th>\n",
       "    </tr>\n",
       "  </thead>\n",
       "  <tbody>\n",
       "    <tr>\n",
       "      <th>0</th>\n",
       "      <td>60756</td>\n",
       "      <td>2</td>\n",
       "      <td>will ferrell</td>\n",
       "      <td>5.0</td>\n",
       "    </tr>\n",
       "    <tr>\n",
       "      <th>1</th>\n",
       "      <td>89774</td>\n",
       "      <td>2</td>\n",
       "      <td>Tom Hardy</td>\n",
       "      <td>5.0</td>\n",
       "    </tr>\n",
       "    <tr>\n",
       "      <th>2</th>\n",
       "      <td>106782</td>\n",
       "      <td>2</td>\n",
       "      <td>Martin Scorsese</td>\n",
       "      <td>5.0</td>\n",
       "    </tr>\n",
       "    <tr>\n",
       "      <th>3</th>\n",
       "      <td>48516</td>\n",
       "      <td>7</td>\n",
       "      <td>way too long</td>\n",
       "      <td>1.0</td>\n",
       "    </tr>\n",
       "    <tr>\n",
       "      <th>4</th>\n",
       "      <td>431</td>\n",
       "      <td>18</td>\n",
       "      <td>mafia</td>\n",
       "      <td>4.0</td>\n",
       "    </tr>\n",
       "  </tbody>\n",
       "</table>\n",
       "</div>"
      ],
      "text/plain": [
       "   movieId  userId              tag  rating\n",
       "0    60756       2     will ferrell     5.0\n",
       "1    89774       2        Tom Hardy     5.0\n",
       "2   106782       2  Martin Scorsese     5.0\n",
       "3    48516       7     way too long     1.0\n",
       "4      431      18            mafia     4.0"
      ]
     },
     "execution_count": 34,
     "metadata": {},
     "output_type": "execute_result"
    }
   ],
   "source": [
    "column_names = [\"movieId\", \"userId\", \"tag\",\"rating\"]\n",
    "\n",
    "rating_data = rating_data.reindex(columns=column_names)\n",
    "\n",
    "rating_data.head()"
   ]
  },
  {
   "cell_type": "markdown",
   "metadata": {},
   "source": [
    "__Encoding the tag column using label encoder__"
   ]
  },
  {
   "cell_type": "code",
   "execution_count": 35,
   "metadata": {},
   "outputs": [
    {
     "data": {
      "text/html": [
       "<div>\n",
       "<style scoped>\n",
       "    .dataframe tbody tr th:only-of-type {\n",
       "        vertical-align: middle;\n",
       "    }\n",
       "\n",
       "    .dataframe tbody tr th {\n",
       "        vertical-align: top;\n",
       "    }\n",
       "\n",
       "    .dataframe thead th {\n",
       "        text-align: right;\n",
       "    }\n",
       "</style>\n",
       "<table border=\"1\" class=\"dataframe\">\n",
       "  <thead>\n",
       "    <tr style=\"text-align: right;\">\n",
       "      <th></th>\n",
       "      <th>movieId</th>\n",
       "      <th>userId</th>\n",
       "      <th>tag</th>\n",
       "      <th>rating</th>\n",
       "      <th>tag_encode</th>\n",
       "    </tr>\n",
       "  </thead>\n",
       "  <tbody>\n",
       "    <tr>\n",
       "      <th>0</th>\n",
       "      <td>60756</td>\n",
       "      <td>2</td>\n",
       "      <td>will ferrell</td>\n",
       "      <td>5.0</td>\n",
       "      <td>774</td>\n",
       "    </tr>\n",
       "    <tr>\n",
       "      <th>1</th>\n",
       "      <td>89774</td>\n",
       "      <td>2</td>\n",
       "      <td>Tom Hardy</td>\n",
       "      <td>5.0</td>\n",
       "      <td>268</td>\n",
       "    </tr>\n",
       "    <tr>\n",
       "      <th>2</th>\n",
       "      <td>106782</td>\n",
       "      <td>2</td>\n",
       "      <td>Martin Scorsese</td>\n",
       "      <td>5.0</td>\n",
       "      <td>141</td>\n",
       "    </tr>\n",
       "    <tr>\n",
       "      <th>3</th>\n",
       "      <td>48516</td>\n",
       "      <td>7</td>\n",
       "      <td>way too long</td>\n",
       "      <td>1.0</td>\n",
       "      <td>762</td>\n",
       "    </tr>\n",
       "    <tr>\n",
       "      <th>4</th>\n",
       "      <td>431</td>\n",
       "      <td>18</td>\n",
       "      <td>mafia</td>\n",
       "      <td>4.0</td>\n",
       "      <td>498</td>\n",
       "    </tr>\n",
       "  </tbody>\n",
       "</table>\n",
       "</div>"
      ],
      "text/plain": [
       "   movieId  userId              tag  rating  tag_encode\n",
       "0    60756       2     will ferrell     5.0         774\n",
       "1    89774       2        Tom Hardy     5.0         268\n",
       "2   106782       2  Martin Scorsese     5.0         141\n",
       "3    48516       7     way too long     1.0         762\n",
       "4      431      18            mafia     4.0         498"
      ]
     },
     "execution_count": 35,
     "metadata": {},
     "output_type": "execute_result"
    }
   ],
   "source": [
    "from sklearn.preprocessing import LabelEncoder\n",
    "\n",
    "lb_make = LabelEncoder()\n",
    "rating_data['tag_encode'] = lb_make.fit_transform(rating_data['tag'])\n",
    "rating_data.head()"
   ]
  },
  {
   "cell_type": "markdown",
   "metadata": {},
   "source": [
    "__Rearranging the columns__"
   ]
  },
  {
   "cell_type": "code",
   "execution_count": 36,
   "metadata": {},
   "outputs": [
    {
     "data": {
      "text/html": [
       "<div>\n",
       "<style scoped>\n",
       "    .dataframe tbody tr th:only-of-type {\n",
       "        vertical-align: middle;\n",
       "    }\n",
       "\n",
       "    .dataframe tbody tr th {\n",
       "        vertical-align: top;\n",
       "    }\n",
       "\n",
       "    .dataframe thead th {\n",
       "        text-align: right;\n",
       "    }\n",
       "</style>\n",
       "<table border=\"1\" class=\"dataframe\">\n",
       "  <thead>\n",
       "    <tr style=\"text-align: right;\">\n",
       "      <th></th>\n",
       "      <th>movieId</th>\n",
       "      <th>userId</th>\n",
       "      <th>rating</th>\n",
       "      <th>tag_encode</th>\n",
       "    </tr>\n",
       "  </thead>\n",
       "  <tbody>\n",
       "    <tr>\n",
       "      <th>0</th>\n",
       "      <td>60756</td>\n",
       "      <td>2</td>\n",
       "      <td>5.0</td>\n",
       "      <td>774</td>\n",
       "    </tr>\n",
       "    <tr>\n",
       "      <th>1</th>\n",
       "      <td>89774</td>\n",
       "      <td>2</td>\n",
       "      <td>5.0</td>\n",
       "      <td>268</td>\n",
       "    </tr>\n",
       "    <tr>\n",
       "      <th>2</th>\n",
       "      <td>106782</td>\n",
       "      <td>2</td>\n",
       "      <td>5.0</td>\n",
       "      <td>141</td>\n",
       "    </tr>\n",
       "    <tr>\n",
       "      <th>3</th>\n",
       "      <td>48516</td>\n",
       "      <td>7</td>\n",
       "      <td>1.0</td>\n",
       "      <td>762</td>\n",
       "    </tr>\n",
       "    <tr>\n",
       "      <th>4</th>\n",
       "      <td>431</td>\n",
       "      <td>18</td>\n",
       "      <td>4.0</td>\n",
       "      <td>498</td>\n",
       "    </tr>\n",
       "  </tbody>\n",
       "</table>\n",
       "</div>"
      ],
      "text/plain": [
       "   movieId  userId  rating  tag_encode\n",
       "0    60756       2     5.0         774\n",
       "1    89774       2     5.0         268\n",
       "2   106782       2     5.0         141\n",
       "3    48516       7     1.0         762\n",
       "4      431      18     4.0         498"
      ]
     },
     "execution_count": 36,
     "metadata": {},
     "output_type": "execute_result"
    }
   ],
   "source": [
    "del rating_data['tag']\n",
    "\n",
    "column_names = [\"movieId\", \"userId\",\"rating\", \"tag_encode\"]\n",
    "\n",
    "rating_data = rating_data.reindex(columns=column_names)\n",
    "\n",
    "rating_data.head()"
   ]
  },
  {
   "cell_type": "markdown",
   "metadata": {},
   "source": [
    "__Normalizing the rating for each user from 0 to 5__"
   ]
  },
  {
   "cell_type": "code",
   "execution_count": 37,
   "metadata": {},
   "outputs": [
    {
     "data": {
      "text/html": [
       "<div>\n",
       "<style scoped>\n",
       "    .dataframe tbody tr th:only-of-type {\n",
       "        vertical-align: middle;\n",
       "    }\n",
       "\n",
       "    .dataframe tbody tr th {\n",
       "        vertical-align: top;\n",
       "    }\n",
       "\n",
       "    .dataframe thead th {\n",
       "        text-align: right;\n",
       "    }\n",
       "</style>\n",
       "<table border=\"1\" class=\"dataframe\">\n",
       "  <thead>\n",
       "    <tr style=\"text-align: right;\">\n",
       "      <th></th>\n",
       "      <th>movieId</th>\n",
       "      <th>userId</th>\n",
       "      <th>rating</th>\n",
       "      <th>tag_encode</th>\n",
       "    </tr>\n",
       "  </thead>\n",
       "  <tbody>\n",
       "    <tr>\n",
       "      <th>0</th>\n",
       "      <td>60756</td>\n",
       "      <td>2</td>\n",
       "      <td>5.000000</td>\n",
       "      <td>774</td>\n",
       "    </tr>\n",
       "    <tr>\n",
       "      <th>1</th>\n",
       "      <td>89774</td>\n",
       "      <td>2</td>\n",
       "      <td>5.000000</td>\n",
       "      <td>268</td>\n",
       "    </tr>\n",
       "    <tr>\n",
       "      <th>2</th>\n",
       "      <td>106782</td>\n",
       "      <td>2</td>\n",
       "      <td>5.000000</td>\n",
       "      <td>141</td>\n",
       "    </tr>\n",
       "    <tr>\n",
       "      <th>3</th>\n",
       "      <td>48516</td>\n",
       "      <td>7</td>\n",
       "      <td>1.000000</td>\n",
       "      <td>762</td>\n",
       "    </tr>\n",
       "    <tr>\n",
       "      <th>4</th>\n",
       "      <td>431</td>\n",
       "      <td>18</td>\n",
       "      <td>2.500000</td>\n",
       "      <td>498</td>\n",
       "    </tr>\n",
       "    <tr>\n",
       "      <th>...</th>\n",
       "      <td>...</td>\n",
       "      <td>...</td>\n",
       "      <td>...</td>\n",
       "      <td>...</td>\n",
       "    </tr>\n",
       "    <tr>\n",
       "      <th>1630</th>\n",
       "      <td>5694</td>\n",
       "      <td>606</td>\n",
       "      <td>0.000000</td>\n",
       "      <td>6</td>\n",
       "    </tr>\n",
       "    <tr>\n",
       "      <th>1631</th>\n",
       "      <td>6107</td>\n",
       "      <td>606</td>\n",
       "      <td>3.333333</td>\n",
       "      <td>295</td>\n",
       "    </tr>\n",
       "    <tr>\n",
       "      <th>1632</th>\n",
       "      <td>7382</td>\n",
       "      <td>606</td>\n",
       "      <td>5.000000</td>\n",
       "      <td>423</td>\n",
       "    </tr>\n",
       "    <tr>\n",
       "      <th>1633</th>\n",
       "      <td>3265</td>\n",
       "      <td>610</td>\n",
       "      <td>5.000000</td>\n",
       "      <td>453</td>\n",
       "    </tr>\n",
       "    <tr>\n",
       "      <th>1634</th>\n",
       "      <td>168248</td>\n",
       "      <td>610</td>\n",
       "      <td>5.000000</td>\n",
       "      <td>95</td>\n",
       "    </tr>\n",
       "  </tbody>\n",
       "</table>\n",
       "<p>1635 rows × 4 columns</p>\n",
       "</div>"
      ],
      "text/plain": [
       "      movieId  userId    rating  tag_encode\n",
       "0       60756       2  5.000000         774\n",
       "1       89774       2  5.000000         268\n",
       "2      106782       2  5.000000         141\n",
       "3       48516       7  1.000000         762\n",
       "4         431      18  2.500000         498\n",
       "...       ...     ...       ...         ...\n",
       "1630     5694     606  0.000000           6\n",
       "1631     6107     606  3.333333         295\n",
       "1632     7382     606  5.000000         423\n",
       "1633     3265     610  5.000000         453\n",
       "1634   168248     610  5.000000          95\n",
       "\n",
       "[1635 rows x 4 columns]"
      ]
     },
     "execution_count": 37,
     "metadata": {},
     "output_type": "execute_result"
    }
   ],
   "source": [
    "user_data=rating_data.userId.unique()\n",
    "list1 = []\n",
    "list2 =[]\n",
    "for i in user_data:\n",
    "    user_bar=rating_data.groupby(['userId']).get_group(i)\n",
    "    min_val= user_bar.rating.min()\n",
    "    max_val= user_bar.rating.max()\n",
    "    OldRange = (max_val - min_val)  \n",
    "    NewRange = (5 - 0)  \n",
    "    if min_val != max_val:\n",
    "        for j in range(len(rating_data)):\n",
    "            if (rating_data['userId'].values[j] == user_bar['userId'].unique()[0]):\n",
    "                    rating_data['rating'].values[j]= (((rating_data['rating'].values[j] - min_val) * NewRange) / OldRange) + 0 \n",
    "rating_data"
   ]
  },
  {
   "cell_type": "markdown",
   "metadata": {},
   "source": [
    "__Drop data values less than 3.5 rating__"
   ]
  },
  {
   "cell_type": "code",
   "execution_count": 67,
   "metadata": {},
   "outputs": [],
   "source": [
    "ratings_data = rating_data[rating_data['rating'] >= 3.5] \n",
    "ratings_data = ratings_data.reset_index()\n",
    "del ratings_data['index']"
   ]
  },
  {
   "cell_type": "markdown",
   "metadata": {},
   "source": [
    "__5.5 CLUSTERING__"
   ]
  },
  {
   "cell_type": "markdown",
   "metadata": {},
   "source": [
    "__5.5.1 To cluster the movies based on tags and rating.__"
   ]
  },
  {
   "cell_type": "markdown",
   "metadata": {},
   "source": [
    "__Find the best k from Elbow method__"
   ]
  },
  {
   "cell_type": "code",
   "execution_count": 74,
   "metadata": {},
   "outputs": [
    {
     "data": {
      "image/png": "[encoded data removed]",
      "text/plain": [
       "<Figure size 432x288 with 1 Axes>"
      ]
     },
     "metadata": {
      "needs_background": "light"
     },
     "output_type": "display_data"
    }
   ],
   "source": [
    "from sklearn.preprocessing import MinMaxScaler\n",
    "from sklearn.cluster import KMeans\n",
    "import matplotlib.pyplot as plt\n",
    "X = ratings_data.values[:,1:4]\n",
    "X = np.nan_to_num(X)\n",
    "mms = MinMaxScaler()\n",
    "mms.fit(X)\n",
    "data_transformed = mms.transform(X)\n",
    "Sum_of_squared_distances = []\n",
    "K = range(1,30)\n",
    "kmeans_kwargs = {\n",
    "   \"init\": \"random\",\n",
    "   \"n_init\": 10,\n",
    "   \"max_iter\": 300,\n",
    "   \"random_state\": 42,\n",
    "   }\n",
    "for k in K:\n",
    "    km = KMeans(n_clusters=k, **kmeans_kwargs)\n",
    "    km = km.fit(data_transformed)\n",
    "    Sum_of_squared_distances.append(km.inertia_)\n",
    "plt.plot(K, Sum_of_squared_distances, 'bx-')\n",
    "plt.xlabel('k')\n",
    "plt.ylabel('Sum_of_squared_distances')\n",
    "plt.title('Elbow Method For Optimal k')\n",
    "plt.show()"
   ]
  },
  {
   "cell_type": "markdown",
   "metadata": {},
   "source": [
    "__Find the best k from Silhoutte__"
   ]
  },
  {
   "cell_type": "code",
   "execution_count": 75,
   "metadata": {},
   "outputs": [
    {
     "data": {
      "image/png": "[encoded data removed]",
      "text/plain": [
       "<Figure size 432x288 with 1 Axes>"
      ]
     },
     "metadata": {
      "needs_background": "light"
     },
     "output_type": "display_data"
    }
   ],
   "source": [
    "from sklearn.cluster import KMeans\n",
    "from sklearn.preprocessing import StandardScaler\n",
    "from sklearn.metrics import silhouette_score\n",
    "kmeans_kwargs = {\n",
    "   \"init\": \"random\",\n",
    "   \"n_init\": 10,\n",
    "   \"max_iter\": 300,\n",
    "   \"random_state\": 42,\n",
    "   }\n",
    "X = ratings_data.values[:,1:4]\n",
    "X = np.nan_to_num(X)\n",
    "scaler = StandardScaler()\n",
    "scaled_features = scaler.fit_transform(X)\n",
    "# A list holds the silhouette coefficients for each k\n",
    "silhouette_coefficients = []\n",
    "# Notice you start at 2 clusters for silhouette coefficient\n",
    "for k in range(2, 30):\n",
    "    kmeans = KMeans(n_clusters=k, **kmeans_kwargs)\n",
    "    kmeans.fit(scaled_features)\n",
    "    score = silhouette_score(scaled_features, kmeans.labels_)\n",
    "    silhouette_coefficients.append(score)\n",
    "plt.plot(range(2, 30), silhouette_coefficients)\n",
    "plt.xticks(range(2, 30))\n",
    "plt.xlabel(\"Number of Clusters\")\n",
    "plt.ylabel(\"Silhouette Coefficient\")\n",
    "plt.show()"
   ]
  },
  {
   "cell_type": "markdown",
   "metadata": {},
   "source": [
    "__Preprocessing__"
   ]
  },
  {
   "cell_type": "code",
   "execution_count": 76,
   "metadata": {},
   "outputs": [
    {
     "data": {
      "text/plain": [
       "array([[-3.8961775 ,  1.8048161 ,  1.55903736],\n",
       "       [-3.8961775 ,  1.8048161 , -0.61332554],\n",
       "       [-3.8961775 ,  1.8048161 , -1.15856287],\n",
       "       ...,\n",
       "       [ 1.44401517,  1.8048161 ,  0.05212159],\n",
       "       [ 1.47938068,  1.8048161 ,  0.18091781],\n",
       "       [ 1.47938068,  1.8048161 , -1.35605041]])"
      ]
     },
     "execution_count": 76,
     "metadata": {},
     "output_type": "execute_result"
    }
   ],
   "source": [
    "import random \n",
    "import numpy as np \n",
    "import matplotlib.pyplot as plt \n",
    "from sklearn.cluster import KMeans \n",
    "from sklearn.datasets.samples_generator import make_blobs \n",
    "%matplotlib inline\n",
    "from sklearn.preprocessing import StandardScaler\n",
    "Clus_dataSet = StandardScaler().fit_transform(X)\n",
    "Clus_dataSet"
   ]
  },
  {
   "cell_type": "markdown",
   "metadata": {},
   "source": [
    "__Performing k-means__"
   ]
  },
  {
   "cell_type": "code",
   "execution_count": 77,
   "metadata": {},
   "outputs": [
    {
     "name": "stdout",
     "output_type": "stream",
     "text": [
      "[2 5 5 5 2 2 2 2 5 2 5 2 2 5 5 5 5 5 2 2 2 5 5 2 2 5 5 5 5 5 5 5 2 2 2 2 2\n",
      " 5 5 5 2 2 5 2 2 5 2 2 2 2 2 5 5 5 2 2 6 2 2 2 5 5 5 2 5 2 5 2 6 5 5 2 2 2\n",
      " 2 5 2 2 6 6 6 4 6 6 3 7 4 6 6 6 6 1 7 6 4 6 6 4 4 3 3 6 6 4 3 1 3 3 3 3 1\n",
      " 3 1 3 3 0 3 3 1 3 0 3 3 4 3 3 1 3 4 1 4 3 1 1 3 3 1 9 3 3 3 9 4 3 1 9 9 1\n",
      " 7 7 7 3 9 1 7 9 0 9 4 3 1 7 7 0 4 7 7 3 7 7 0 1 7 0 3 7 0 7 4 3 7 1 7 4 7\n",
      " 7 1 7 7 4 7 0 7 4 4 7 9 3 7 7 9 7 7 4 7 7 7 7 0 4 1 4 0 0 3 1 7 4 0 3 3 7\n",
      " 9 9 4 0 1 3 7 4 1 4 1 1 7 9 1 1 1 9 4 0 3 0 7 7 7 1 7 1 1 7 0 3 4 4 1 4 7\n",
      " 7 9 7 7 4 4 9 3 9 0 4 1 9 3 3 4 9 1 1 4 0 1 1 1 3 1 1 9 7 1 7 1 1 0 4 7 1\n",
      " 1 9 1 9 4 3 4 3 1 0 0 7 3 7 7 7 1 4 9 0 4 9 9 7 0 7 7 7 3 0 1 3 7 3 3 7 1\n",
      " 7 4 0 1 4 9 4 4 3 3 4 4 1 3 7 7 0 7 4 1 7 3 4 9 4 7 7 3 7 0 4 0 7 0 9 4 7\n",
      " 4 7 7 9 9 3 4 3 7 7 4 9 0 4 1 9 4 7 7 9 1 0 0 3 7 7 7 0 3 1 1 0 0 4 9 0 0\n",
      " 3 9 9 3 0 7 0 0 1 7 4 0 7 9 3 7 1 1 0 1 7 0 9 7 7 3 3 0 1 4 4 0 3 3 0 3 3\n",
      " 3 7 4 1 3 9 0 3 0 9 1 9 7 3 4 0 7 7 9 7 7 0 4 0 9 9 0 0 3 0 0 3 0 4 3 4 9\n",
      " 4 0 9 1 0 9 4 9 1 0 7 0 1 4 7 7 3 0 1 7 7 3 4 4 9 3 9 9 3 9 3 9 7 1 9 0 0\n",
      " 4 1 1 7 0 3 4 0 9 9 7 7 3 9 1 0 7 1 3 9 3 4 4 0 4 3 1 0 7 0 0 4 0 3 0 4 3\n",
      " 4 0 4 1 9 1 4 1 7 7 9 9 3 7 3 9 1 4 4 0 1 7 4 0 9 4 0 0 9 1 0 9 3 4 3 9 0\n",
      " 3 3 7 4 3 7 4 0 9 0 9 3 9 3 4 4 7 9 7 9 0 7 7 4 9 9 3 1 7 4 4 0 7 3 1 0 4\n",
      " 3 4 9 4 7 0 4 4 7 3 9 7 7 9 4 4 3 9 4 0 7 4 4 9 4 4 0 7 7 3 9 7 1 3 9 9 1\n",
      " 9 1 7 9 7 0 9 7 4 9 0 1 3 4 3 4 9 0 4 7 7 7 3 0 7 0 9 0 4 0 3 9 7 7 4 7 3\n",
      " 4 3 9 1 3 3 7 0 4 9 7 7 9 7 9 0 0 7 7 0 3 9 4 7 0 7 0 7 4 4 9 9 7 0 4 3 4\n",
      " 0 4 9 7 0 7 4 9 7 7 4 0 4 0 1 4 3 7 3 9 7 4 7 3 1 4 9 9 9 9 9 3 7 4 0 7 0\n",
      " 9 9 9 4 0 4 4 1 4 7 7 3 7 0 0 1 9 7 1 3 0 4 3 9 3 9 4 4 3 1 7 0 0 0 9 9 7\n",
      " 0 7 4 7 9 4 0 9 7 3 4 0 9 0 4 4 1 0 9 7 0 9 0 9 3 4 9 7 7 9 4 9 7 7 4 7 4\n",
      " 7 1 4 7 7 7 7 3 1 1 1 3 9 0 9 4 3 3 3 9 3 7 0 4 3 4 3 0 9 3 3 9 9 3 4 0 3\n",
      " 3 0 3 0 1 7 8 9 9 8 9 8 7 8 8 8 4 1 1 8 4 8 9 8 4 8 0 8 8 8 8 8 0 8 8 9 8\n",
      " 8 8 4 0 8 8 8 0 8 8 8 0 9 9 8 8 8 8 8 8 9 9 0 8 9 4 4 8 8 8 8 8 8 0 0 7]\n"
     ]
    }
   ],
   "source": [
    "clusterNum =10\n",
    "k_means = KMeans(init = \"k-means++\", n_clusters = clusterNum, n_init = 50)\n",
    "k_means.fit(X)\n",
    "labels = k_means.labels_\n",
    "print(labels)"
   ]
  },
  {
   "cell_type": "markdown",
   "metadata": {},
   "source": [
    "__Clustered column added to the data__"
   ]
  },
  {
   "cell_type": "code",
   "execution_count": 78,
   "metadata": {},
   "outputs": [
    {
     "data": {
      "text/html": [
       "<div>\n",
       "<style scoped>\n",
       "    .dataframe tbody tr th:only-of-type {\n",
       "        vertical-align: middle;\n",
       "    }\n",
       "\n",
       "    .dataframe tbody tr th {\n",
       "        vertical-align: top;\n",
       "    }\n",
       "\n",
       "    .dataframe thead th {\n",
       "        text-align: right;\n",
       "    }\n",
       "</style>\n",
       "<table border=\"1\" class=\"dataframe\">\n",
       "  <thead>\n",
       "    <tr style=\"text-align: right;\">\n",
       "      <th></th>\n",
       "      <th>movieId</th>\n",
       "      <th>userId</th>\n",
       "      <th>rating</th>\n",
       "      <th>tag_encode</th>\n",
       "      <th>Clus_km</th>\n",
       "    </tr>\n",
       "  </thead>\n",
       "  <tbody>\n",
       "    <tr>\n",
       "      <th>0</th>\n",
       "      <td>60756</td>\n",
       "      <td>2</td>\n",
       "      <td>5.00</td>\n",
       "      <td>774</td>\n",
       "      <td>2</td>\n",
       "    </tr>\n",
       "    <tr>\n",
       "      <th>1</th>\n",
       "      <td>89774</td>\n",
       "      <td>2</td>\n",
       "      <td>5.00</td>\n",
       "      <td>268</td>\n",
       "      <td>5</td>\n",
       "    </tr>\n",
       "    <tr>\n",
       "      <th>2</th>\n",
       "      <td>106782</td>\n",
       "      <td>2</td>\n",
       "      <td>5.00</td>\n",
       "      <td>141</td>\n",
       "      <td>5</td>\n",
       "    </tr>\n",
       "    <tr>\n",
       "      <th>3</th>\n",
       "      <td>1221</td>\n",
       "      <td>18</td>\n",
       "      <td>5.00</td>\n",
       "      <td>136</td>\n",
       "      <td>5</td>\n",
       "    </tr>\n",
       "    <tr>\n",
       "      <th>4</th>\n",
       "      <td>5995</td>\n",
       "      <td>18</td>\n",
       "      <td>3.75</td>\n",
       "      <td>725</td>\n",
       "      <td>2</td>\n",
       "    </tr>\n",
       "  </tbody>\n",
       "</table>\n",
       "</div>"
      ],
      "text/plain": [
       "   movieId  userId  rating  tag_encode  Clus_km\n",
       "0    60756       2    5.00         774        2\n",
       "1    89774       2    5.00         268        5\n",
       "2   106782       2    5.00         141        5\n",
       "3     1221      18    5.00         136        5\n",
       "4     5995      18    3.75         725        2"
      ]
     },
     "execution_count": 78,
     "metadata": {},
     "output_type": "execute_result"
    }
   ],
   "source": [
    "ratings_data[\"Clus_km\"] = labels\n",
    "ratings_data.head(5)"
   ]
  },
  {
   "cell_type": "markdown",
   "metadata": {},
   "source": [
    "__View the centroids__"
   ]
  },
  {
   "cell_type": "code",
   "execution_count": 79,
   "metadata": {},
   "outputs": [
    {
     "data": {
      "text/html": [
       "<div>\n",
       "<style scoped>\n",
       "    .dataframe tbody tr th:only-of-type {\n",
       "        vertical-align: middle;\n",
       "    }\n",
       "\n",
       "    .dataframe tbody tr th {\n",
       "        vertical-align: top;\n",
       "    }\n",
       "\n",
       "    .dataframe thead th {\n",
       "        text-align: right;\n",
       "    }\n",
       "</style>\n",
       "<table border=\"1\" class=\"dataframe\">\n",
       "  <thead>\n",
       "    <tr style=\"text-align: right;\">\n",
       "      <th></th>\n",
       "      <th>movieId</th>\n",
       "      <th>userId</th>\n",
       "      <th>rating</th>\n",
       "      <th>tag_encode</th>\n",
       "    </tr>\n",
       "    <tr>\n",
       "      <th>Clus_km</th>\n",
       "      <th></th>\n",
       "      <th></th>\n",
       "      <th></th>\n",
       "      <th></th>\n",
       "    </tr>\n",
       "  </thead>\n",
       "  <tbody>\n",
       "    <tr>\n",
       "      <th>0</th>\n",
       "      <td>10464.185185</td>\n",
       "      <td>479.748148</td>\n",
       "      <td>4.048560</td>\n",
       "      <td>470.244444</td>\n",
       "    </tr>\n",
       "    <tr>\n",
       "      <th>1</th>\n",
       "      <td>6613.020202</td>\n",
       "      <td>468.616162</td>\n",
       "      <td>4.313272</td>\n",
       "      <td>197.282828</td>\n",
       "    </tr>\n",
       "    <tr>\n",
       "      <th>2</th>\n",
       "      <td>59928.512195</td>\n",
       "      <td>90.219512</td>\n",
       "      <td>4.417683</td>\n",
       "      <td>686.585366</td>\n",
       "    </tr>\n",
       "    <tr>\n",
       "      <th>3</th>\n",
       "      <td>12524.934307</td>\n",
       "      <td>461.941606</td>\n",
       "      <td>4.166869</td>\n",
       "      <td>711.708029</td>\n",
       "    </tr>\n",
       "    <tr>\n",
       "      <th>4</th>\n",
       "      <td>9858.293333</td>\n",
       "      <td>470.326667</td>\n",
       "      <td>4.140741</td>\n",
       "      <td>329.366667</td>\n",
       "    </tr>\n",
       "    <tr>\n",
       "      <th>5</th>\n",
       "      <td>55843.400000</td>\n",
       "      <td>80.142857</td>\n",
       "      <td>4.403571</td>\n",
       "      <td>240.257143</td>\n",
       "    </tr>\n",
       "    <tr>\n",
       "      <th>6</th>\n",
       "      <td>32844.187500</td>\n",
       "      <td>293.250000</td>\n",
       "      <td>4.664062</td>\n",
       "      <td>523.312500</td>\n",
       "    </tr>\n",
       "    <tr>\n",
       "      <th>7</th>\n",
       "      <td>7678.373563</td>\n",
       "      <td>473.609195</td>\n",
       "      <td>4.190613</td>\n",
       "      <td>73.051724</td>\n",
       "    </tr>\n",
       "    <tr>\n",
       "      <th>8</th>\n",
       "      <td>48138.384615</td>\n",
       "      <td>565.923077</td>\n",
       "      <td>4.629630</td>\n",
       "      <td>716.076923</td>\n",
       "    </tr>\n",
       "    <tr>\n",
       "      <th>9</th>\n",
       "      <td>14456.977778</td>\n",
       "      <td>479.570370</td>\n",
       "      <td>4.091049</td>\n",
       "      <td>587.725926</td>\n",
       "    </tr>\n",
       "  </tbody>\n",
       "</table>\n",
       "</div>"
      ],
      "text/plain": [
       "              movieId      userId    rating  tag_encode\n",
       "Clus_km                                                \n",
       "0        10464.185185  479.748148  4.048560  470.244444\n",
       "1         6613.020202  468.616162  4.313272  197.282828\n",
       "2        59928.512195   90.219512  4.417683  686.585366\n",
       "3        12524.934307  461.941606  4.166869  711.708029\n",
       "4         9858.293333  470.326667  4.140741  329.366667\n",
       "5        55843.400000   80.142857  4.403571  240.257143\n",
       "6        32844.187500  293.250000  4.664062  523.312500\n",
       "7         7678.373563  473.609195  4.190613   73.051724\n",
       "8        48138.384615  565.923077  4.629630  716.076923\n",
       "9        14456.977778  479.570370  4.091049  587.725926"
      ]
     },
     "execution_count": 79,
     "metadata": {},
     "output_type": "execute_result"
    }
   ],
   "source": [
    "ratings_data.groupby('Clus_km').mean()"
   ]
  },
  {
   "cell_type": "markdown",
   "metadata": {},
   "source": [
    "__Clustered data__"
   ]
  },
  {
   "cell_type": "code",
   "execution_count": 80,
   "metadata": {},
   "outputs": [
    {
     "data": {
      "image/png": "[encoded data removed]",
      "text/plain": [
       "<Figure size 432x288 with 1 Axes>"
      ]
     },
     "metadata": {
      "needs_background": "light"
     },
     "output_type": "display_data"
    }
   ],
   "source": [
    "area = np.pi * ( X[:, 1])**2  \n",
    "plt.scatter(X[:, 0], X[:, 2], s=area, c=labels.astype(np.float), alpha=0.5)\n",
    "plt.xlabel('User ID', fontsize=18)\n",
    "plt.ylabel('Tag', fontsize=16)\n",
    "plt.show()"
   ]
  },
  {
   "cell_type": "markdown",
   "metadata": {},
   "source": [
    "__Plotting 3D__"
   ]
  },
  {
   "cell_type": "code",
   "execution_count": 81,
   "metadata": {},
   "outputs": [
    {
     "data": {
      "text/plain": [
       "<mpl_toolkits.mplot3d.art3d.Path3DCollection at 0x7f5374123250>"
      ]
     },
     "execution_count": 81,
     "metadata": {},
     "output_type": "execute_result"
    },
    {
     "data": {
      "image/png": "[encoded data removed]",
      "text/plain": [
       "<Figure size 576x432 with 1 Axes>"
      ]
     },
     "metadata": {
      "needs_background": "light"
     },
     "output_type": "display_data"
    }
   ],
   "source": [
    "from mpl_toolkits.mplot3d import Axes3D \n",
    "fig = plt.figure(1, figsize=(8, 6))\n",
    "plt.clf()\n",
    "ax = Axes3D(fig, rect=[0, 0, .95, 1], elev=48, azim=134)\n",
    "\n",
    "plt.cla()\n",
    "\n",
    "ax.set_xlabel('Tag')\n",
    "ax.set_ylabel('User ID')\n",
    "ax.set_zlabel('Rating')\n",
    "\n",
    "ax.scatter(X[:, 0], X[:, 2], X[:, 1], c= labels.astype(np.float))"
   ]
  },
  {
   "cell_type": "markdown",
   "metadata": {},
   "source": [
    "__Finding movie for movieId using movie dataset__"
   ]
  },
  {
   "cell_type": "code",
   "execution_count": 82,
   "metadata": {},
   "outputs": [
    {
     "data": {
      "text/html": [
       "<div>\n",
       "<style scoped>\n",
       "    .dataframe tbody tr th:only-of-type {\n",
       "        vertical-align: middle;\n",
       "    }\n",
       "\n",
       "    .dataframe tbody tr th {\n",
       "        vertical-align: top;\n",
       "    }\n",
       "\n",
       "    .dataframe thead th {\n",
       "        text-align: right;\n",
       "    }\n",
       "</style>\n",
       "<table border=\"1\" class=\"dataframe\">\n",
       "  <thead>\n",
       "    <tr style=\"text-align: right;\">\n",
       "      <th></th>\n",
       "      <th>movieId</th>\n",
       "      <th>userId</th>\n",
       "      <th>rating</th>\n",
       "      <th>tag_encode</th>\n",
       "      <th>Clus_km</th>\n",
       "      <th>Movie</th>\n",
       "    </tr>\n",
       "  </thead>\n",
       "  <tbody>\n",
       "    <tr>\n",
       "      <th>0</th>\n",
       "      <td>60756</td>\n",
       "      <td>2</td>\n",
       "      <td>5.00</td>\n",
       "      <td>774</td>\n",
       "      <td>2</td>\n",
       "      <td>Step Brothers (2008)</td>\n",
       "    </tr>\n",
       "    <tr>\n",
       "      <th>1</th>\n",
       "      <td>89774</td>\n",
       "      <td>2</td>\n",
       "      <td>5.00</td>\n",
       "      <td>268</td>\n",
       "      <td>5</td>\n",
       "      <td>Warrior (2011)</td>\n",
       "    </tr>\n",
       "    <tr>\n",
       "      <th>2</th>\n",
       "      <td>106782</td>\n",
       "      <td>2</td>\n",
       "      <td>5.00</td>\n",
       "      <td>141</td>\n",
       "      <td>5</td>\n",
       "      <td>Wolf of Wall Street, The (2013)</td>\n",
       "    </tr>\n",
       "    <tr>\n",
       "      <th>3</th>\n",
       "      <td>1221</td>\n",
       "      <td>18</td>\n",
       "      <td>5.00</td>\n",
       "      <td>136</td>\n",
       "      <td>5</td>\n",
       "      <td>Godfather: Part II, The (1974)</td>\n",
       "    </tr>\n",
       "    <tr>\n",
       "      <th>4</th>\n",
       "      <td>5995</td>\n",
       "      <td>18</td>\n",
       "      <td>3.75</td>\n",
       "      <td>725</td>\n",
       "      <td>2</td>\n",
       "      <td>Pianist, The (2002)</td>\n",
       "    </tr>\n",
       "  </tbody>\n",
       "</table>\n",
       "</div>"
      ],
      "text/plain": [
       "   movieId  userId  rating  tag_encode  Clus_km  \\\n",
       "0    60756       2    5.00         774        2   \n",
       "1    89774       2    5.00         268        5   \n",
       "2   106782       2    5.00         141        5   \n",
       "3     1221      18    5.00         136        5   \n",
       "4     5995      18    3.75         725        2   \n",
       "\n",
       "                             Movie  \n",
       "0             Step Brothers (2008)  \n",
       "1                   Warrior (2011)  \n",
       "2  Wolf of Wall Street, The (2013)  \n",
       "3   Godfather: Part II, The (1974)  \n",
       "4              Pianist, The (2002)  "
      ]
     },
     "execution_count": 82,
     "metadata": {},
     "output_type": "execute_result"
    }
   ],
   "source": [
    "# new column for movie name\n",
    "ratings_data['Movie'] = ''\n",
    "# assigning title for each row with respect to the movieId\n",
    "for i in range(len(ratings_data)):\n",
    "        movie_id=ratings_data['movieId'].values[i]\n",
    "        for j in range(len(movies_data)):\n",
    "            if (movies_data['movieId'].values[j] == movie_id):\n",
    "                movie= movies_data['title'].values[j]\n",
    "                ratings_data['Movie'].values[i] = movie\n",
    "ratings_data.head()"
   ]
  },
  {
   "cell_type": "markdown",
   "metadata": {},
   "source": [
    "__Printing the movies suggestion__"
   ]
  },
  {
   "cell_type": "code",
   "execution_count": 90,
   "metadata": {},
   "outputs": [
    {
     "name": "stdout",
     "output_type": "stream",
     "text": [
      "UserID: [2]Cluster: [2 5]\n",
      "['Step Brothers (2008)' 'Pianist, The (2002)' 'Lucky Number Slevin (2006)']\n",
      "['Warrior (2011)' 'Wolf of Wall Street, The (2013)'\n",
      " 'Godfather: Part II, The (1974)']\n",
      "UserID: [18]Cluster: [5 2]\n",
      "['Warrior (2011)' 'Wolf of Wall Street, The (2013)'\n",
      " 'Godfather: Part II, The (1974)']\n",
      "['Step Brothers (2008)' 'Pianist, The (2002)' 'Lucky Number Slevin (2006)']\n",
      "UserID: [49]Cluster: [2]\n",
      "['Step Brothers (2008)' 'Pianist, The (2002)' 'Lucky Number Slevin (2006)']\n",
      "UserID: [62]Cluster: [5 2]\n",
      "['Warrior (2011)' 'Wolf of Wall Street, The (2013)'\n",
      " 'Godfather: Part II, The (1974)']\n",
      "['Step Brothers (2008)' 'Pianist, The (2002)' 'Lucky Number Slevin (2006)']\n",
      "UserID: [63]Cluster: [2]\n",
      "['Step Brothers (2008)' 'Pianist, The (2002)' 'Lucky Number Slevin (2006)']\n",
      "UserID: [76]Cluster: [2]\n",
      "['Step Brothers (2008)' 'Pianist, The (2002)' 'Lucky Number Slevin (2006)']\n",
      "UserID: [103]Cluster: [2]\n",
      "['Step Brothers (2008)' 'Pianist, The (2002)' 'Lucky Number Slevin (2006)']\n",
      "UserID: [106]Cluster: [5]\n",
      "['Warrior (2011)' 'Wolf of Wall Street, The (2013)'\n",
      " 'Godfather: Part II, The (1974)']\n",
      "UserID: [112]Cluster: [5]\n",
      "['Warrior (2011)' 'Wolf of Wall Street, The (2013)'\n",
      " 'Godfather: Part II, The (1974)']\n",
      "UserID: [119]Cluster: [2]\n",
      "['Step Brothers (2008)' 'Pianist, The (2002)' 'Lucky Number Slevin (2006)']\n",
      "UserID: [125]Cluster: [2 6 5]\n",
      "['Step Brothers (2008)' 'Pianist, The (2002)' 'Lucky Number Slevin (2006)']\n",
      "['Going Places (Valseuses, Les) (1974)' 'Forbidden Kingdom, The (2008)'\n",
      " 'The DUFF (2015)']\n",
      "['Warrior (2011)' 'Wolf of Wall Street, The (2013)'\n",
      " 'Godfather: Part II, The (1974)']\n",
      "UserID: [132]Cluster: [2]\n",
      "['Step Brothers (2008)' 'Pianist, The (2002)' 'Lucky Number Slevin (2006)']\n",
      "UserID: [138]Cluster: [6]\n",
      "['Going Places (Valseuses, Les) (1974)' 'Forbidden Kingdom, The (2008)'\n",
      " 'The DUFF (2015)']\n",
      "UserID: [161]Cluster: [5]\n",
      "['Warrior (2011)' 'Wolf of Wall Street, The (2013)'\n",
      " 'Godfather: Part II, The (1974)']\n",
      "UserID: [166]Cluster: [5]\n",
      "['Warrior (2011)' 'Wolf of Wall Street, The (2013)'\n",
      " 'Godfather: Part II, The (1974)']\n",
      "UserID: [167]Cluster: [2]\n",
      "['Step Brothers (2008)' 'Pianist, The (2002)' 'Lucky Number Slevin (2006)']\n",
      "UserID: [177]Cluster: [2]\n",
      "['Step Brothers (2008)' 'Pianist, The (2002)' 'Lucky Number Slevin (2006)']\n",
      "UserID: [184]Cluster: [2]\n",
      "['Step Brothers (2008)' 'Pianist, The (2002)' 'Lucky Number Slevin (2006)']\n",
      "UserID: [193]Cluster: [2]\n",
      "['Step Brothers (2008)' 'Pianist, The (2002)' 'Lucky Number Slevin (2006)']\n",
      "UserID: [205]Cluster: [5]\n",
      "['Warrior (2011)' 'Wolf of Wall Street, The (2013)'\n",
      " 'Godfather: Part II, The (1974)']\n",
      "UserID: [226]Cluster: [2]\n",
      "['Step Brothers (2008)' 'Pianist, The (2002)' 'Lucky Number Slevin (2006)']\n",
      "UserID: [256]Cluster: [6]\n",
      "['Going Places (Valseuses, Les) (1974)' 'Forbidden Kingdom, The (2008)'\n",
      " 'The DUFF (2015)']\n",
      "UserID: [289]Cluster: [6]\n",
      "['Going Places (Valseuses, Les) (1974)' 'Forbidden Kingdom, The (2008)'\n",
      " 'The DUFF (2015)']\n",
      "UserID: [291]Cluster: [6]\n",
      "['Going Places (Valseuses, Les) (1974)' 'Forbidden Kingdom, The (2008)'\n",
      " 'The DUFF (2015)']\n",
      "UserID: [300]Cluster: [4]\n",
      "['Lost in Translation (2003)' 'Tucker & Dale vs Evil (2010)'\n",
      " 'Anchorman: The Legend of Ron Burgundy (2004)']\n",
      "UserID: [305]Cluster: [6 3 7 4]\n",
      "['Going Places (Valseuses, Les) (1974)' 'Forbidden Kingdom, The (2008)'\n",
      " 'The DUFF (2015)']\n",
      "['28 Days Later (2002)' 'Wedding Crashers (2005)' 'Lord of War (2005)']\n",
      "['Elite Squad (Tropa de Elite) (2007)'\n",
      " \"There's Something About Mary (1998)\" 'Sense and Sensibility (1995)']\n",
      "['Lost in Translation (2003)' 'Tucker & Dale vs Evil (2010)'\n",
      " 'Anchorman: The Legend of Ron Burgundy (2004)']\n",
      "UserID: [318]Cluster: [6]\n",
      "['Going Places (Valseuses, Les) (1974)' 'Forbidden Kingdom, The (2008)'\n",
      " 'The DUFF (2015)']\n",
      "UserID: [319]Cluster: [1]\n",
      "['Lion King, The (1994)' 'Jezebel (1938)' 'Kids (1995)']\n",
      "UserID: [327]Cluster: [7 6 4]\n",
      "['Elite Squad (Tropa de Elite) (2007)'\n",
      " \"There's Something About Mary (1998)\" 'Sense and Sensibility (1995)']\n",
      "['Going Places (Valseuses, Les) (1974)' 'Forbidden Kingdom, The (2008)'\n",
      " 'The DUFF (2015)']\n",
      "['Lost in Translation (2003)' 'Tucker & Dale vs Evil (2010)'\n",
      " 'Anchorman: The Legend of Ron Burgundy (2004)']\n",
      "UserID: [336]Cluster: [6 4 3]\n",
      "['Going Places (Valseuses, Les) (1974)' 'Forbidden Kingdom, The (2008)'\n",
      " 'The DUFF (2015)']\n",
      "['Lost in Translation (2003)' 'Tucker & Dale vs Evil (2010)'\n",
      " 'Anchorman: The Legend of Ron Burgundy (2004)']\n",
      "['28 Days Later (2002)' 'Wedding Crashers (2005)' 'Lord of War (2005)']\n",
      "UserID: [356]Cluster: [6 4]\n",
      "['Going Places (Valseuses, Les) (1974)' 'Forbidden Kingdom, The (2008)'\n",
      " 'The DUFF (2015)']\n",
      "['Lost in Translation (2003)' 'Tucker & Dale vs Evil (2010)'\n",
      " 'Anchorman: The Legend of Ron Burgundy (2004)']\n",
      "UserID: [357]Cluster: [3 1]\n",
      "['28 Days Later (2002)' 'Wedding Crashers (2005)' 'Lord of War (2005)']\n",
      "['Lion King, The (1994)' 'Jezebel (1938)' 'Kids (1995)']\n",
      "UserID: [419]Cluster: [3]\n",
      "['28 Days Later (2002)' 'Wedding Crashers (2005)' 'Lord of War (2005)']\n",
      "UserID: [424]Cluster: [3 1 0 4 9]\n",
      "['28 Days Later (2002)' 'Wedding Crashers (2005)' 'Lord of War (2005)']\n",
      "['Lion King, The (1994)' 'Jezebel (1938)' 'Kids (1995)']\n",
      "[\"One Flew Over the Cuckoo's Nest (1975)\" 'Good Will Hunting (1997)'\n",
      " 'Usual Suspects, The (1995)']\n",
      "['Lost in Translation (2003)' 'Tucker & Dale vs Evil (2010)'\n",
      " 'Anchorman: The Legend of Ron Burgundy (2004)']\n",
      "['Inglourious Basterds (2009)' 'Babadook, The (2014)'\n",
      " 'Who Killed Chea Vichea? (2010)']\n",
      "UserID: [435]Cluster: [4 3]\n",
      "['Lost in Translation (2003)' 'Tucker & Dale vs Evil (2010)'\n",
      " 'Anchorman: The Legend of Ron Burgundy (2004)']\n",
      "['28 Days Later (2002)' 'Wedding Crashers (2005)' 'Lord of War (2005)']\n",
      "UserID: [439]Cluster: [1]\n",
      "['Lion King, The (1994)' 'Jezebel (1938)' 'Kids (1995)']\n",
      "UserID: [462]Cluster: [9]\n",
      "['Inglourious Basterds (2009)' 'Babadook, The (2014)'\n",
      " 'Who Killed Chea Vichea? (2010)']\n",
      "UserID: [474]Cluster: [9 1 7 3 0 4]\n",
      "['Inglourious Basterds (2009)' 'Babadook, The (2014)'\n",
      " 'Who Killed Chea Vichea? (2010)']\n",
      "['Lion King, The (1994)' 'Jezebel (1938)' 'Kids (1995)']\n",
      "['Elite Squad (Tropa de Elite) (2007)'\n",
      " \"There's Something About Mary (1998)\" 'Sense and Sensibility (1995)']\n",
      "['28 Days Later (2002)' 'Wedding Crashers (2005)' 'Lord of War (2005)']\n",
      "[\"One Flew Over the Cuckoo's Nest (1975)\" 'Good Will Hunting (1997)'\n",
      " 'Usual Suspects, The (1995)']\n",
      "['Lost in Translation (2003)' 'Tucker & Dale vs Evil (2010)'\n",
      " 'Anchorman: The Legend of Ron Burgundy (2004)']\n",
      "UserID: [477]Cluster: [3 1 9 0 4 7]\n",
      "['28 Days Later (2002)' 'Wedding Crashers (2005)' 'Lord of War (2005)']\n",
      "['Lion King, The (1994)' 'Jezebel (1938)' 'Kids (1995)']\n",
      "['Inglourious Basterds (2009)' 'Babadook, The (2014)'\n",
      " 'Who Killed Chea Vichea? (2010)']\n",
      "[\"One Flew Over the Cuckoo's Nest (1975)\" 'Good Will Hunting (1997)'\n",
      " 'Usual Suspects, The (1995)']\n",
      "['Lost in Translation (2003)' 'Tucker & Dale vs Evil (2010)'\n",
      " 'Anchorman: The Legend of Ron Burgundy (2004)']\n",
      "['Elite Squad (Tropa de Elite) (2007)'\n",
      " \"There's Something About Mary (1998)\" 'Sense and Sensibility (1995)']\n",
      "UserID: [506]Cluster: [3]\n",
      "['28 Days Later (2002)' 'Wedding Crashers (2005)' 'Lord of War (2005)']\n",
      "UserID: [509]Cluster: [0]\n",
      "[\"One Flew Over the Cuckoo's Nest (1975)\" 'Good Will Hunting (1997)'\n",
      " 'Usual Suspects, The (1995)']\n",
      "UserID: [513]Cluster: [1]\n",
      "['Lion King, The (1994)' 'Jezebel (1938)' 'Kids (1995)']\n",
      "UserID: [520]Cluster: [7]\n",
      "['Elite Squad (Tropa de Elite) (2007)'\n",
      " \"There's Something About Mary (1998)\" 'Sense and Sensibility (1995)']\n",
      "UserID: [533]Cluster: [8]\n",
      "['Forrest Gump (1994)' 'Catch Me If You Can (2002)' 'Bank Job, The (2008)']\n",
      "UserID: [537]Cluster: [9 8 7 4 1]\n",
      "['Inglourious Basterds (2009)' 'Babadook, The (2014)'\n",
      " 'Who Killed Chea Vichea? (2010)']\n",
      "['Forrest Gump (1994)' 'Catch Me If You Can (2002)' 'Bank Job, The (2008)']\n",
      "['Elite Squad (Tropa de Elite) (2007)'\n",
      " \"There's Something About Mary (1998)\" 'Sense and Sensibility (1995)']\n",
      "['Lost in Translation (2003)' 'Tucker & Dale vs Evil (2010)'\n",
      " 'Anchorman: The Legend of Ron Burgundy (2004)']\n",
      "['Lion King, The (1994)' 'Jezebel (1938)' 'Kids (1995)']\n",
      "UserID: [567]Cluster: [8 9 4 0]\n",
      "['Forrest Gump (1994)' 'Catch Me If You Can (2002)' 'Bank Job, The (2008)']\n",
      "['Inglourious Basterds (2009)' 'Babadook, The (2014)'\n",
      " 'Who Killed Chea Vichea? (2010)']\n",
      "['Lost in Translation (2003)' 'Tucker & Dale vs Evil (2010)'\n",
      " 'Anchorman: The Legend of Ron Burgundy (2004)']\n",
      "[\"One Flew Over the Cuckoo's Nest (1975)\" 'Good Will Hunting (1997)'\n",
      " 'Usual Suspects, The (1995)']\n",
      "UserID: [573]Cluster: [8 9 4]\n",
      "['Forrest Gump (1994)' 'Catch Me If You Can (2002)' 'Bank Job, The (2008)']\n",
      "['Inglourious Basterds (2009)' 'Babadook, The (2014)'\n",
      " 'Who Killed Chea Vichea? (2010)']\n",
      "['Lost in Translation (2003)' 'Tucker & Dale vs Evil (2010)'\n",
      " 'Anchorman: The Legend of Ron Burgundy (2004)']\n",
      "UserID: [599]Cluster: [8]\n",
      "['Forrest Gump (1994)' 'Catch Me If You Can (2002)' 'Bank Job, The (2008)']\n",
      "UserID: [606]Cluster: [0]\n",
      "[\"One Flew Over the Cuckoo's Nest (1975)\" 'Good Will Hunting (1997)'\n",
      " 'Usual Suspects, The (1995)']\n",
      "UserID: [610]Cluster: [0 7]\n",
      "[\"One Flew Over the Cuckoo's Nest (1975)\" 'Good Will Hunting (1997)'\n",
      " 'Usual Suspects, The (1995)']\n",
      "['Elite Squad (Tropa de Elite) (2007)'\n",
      " \"There's Something About Mary (1998)\" 'Sense and Sensibility (1995)']\n"
     ]
    }
   ],
   "source": [
    "user_data=ratings_data.userId.unique()\n",
    "for i in user_data:\n",
    "    user_bar=ratings_data.groupby(['userId']).get_group(i)\n",
    "    print(\"UserID: \"+str(user_bar.userId.unique())+\"Cluster: \"+str(user_bar.Clus_km.unique()))\n",
    "    for j in range(len(user_bar.Clus_km.unique())):\n",
    "        clu=user_bar.Clus_km.unique()[j]\n",
    "        movies_bar=ratings_data.groupby(['Clus_km']).get_group(clu)\n",
    "        print(str(movies_bar.Movie.values[:3]))"
   ]
  }
 ],
 "metadata": {
  "environment": {
   "name": "common-cpu.m56",
   "type": "gcloud",
   "uri": "gcr.io/deeplearning-platform-release/base-cpu:m56"
  },
  "kernelspec": {
   "display_name": "Python 3",
   "language": "python",
   "name": "python3"
  },
  "language_info": {
   "codemirror_mode": {
    "name": "ipython",
    "version": 3
   },
   "file_extension": ".py",
   "mimetype": "text/x-python",
   "name": "python",
   "nbconvert_exporter": "python",
   "pygments_lexer": "ipython3",
   "version": "3.8.3"
  }
 },
 "nbformat": 4,
 "nbformat_minor": 4
}
